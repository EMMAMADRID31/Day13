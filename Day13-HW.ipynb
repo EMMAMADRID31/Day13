{
 "cells": [
  {
   "cell_type": "markdown",
   "id": "74561943-756b-42cd-b493-cdf3b67e7c3d",
   "metadata": {},
   "source": [
    "## Introduction to Data Science\n",
    "\n",
    "#### University of Redlands - DATA 101\n",
    "#### Prof: Joanna Bieri [joanna_bieri@redlands.edu](mailto:joanna_bieri@redlands.edu)\n",
    "#### [Class Website: data101.joannabieri.com](https://joannabieri.com/data101.html)\n",
    "\n",
    "---------------------------------------\n",
    "# Homework Day 13\n",
    "---------------------------------------\n",
    "\n",
    "GOALS:\n",
    "\n",
    "1. Explore and respond to ideas around data ethics\n",
    "2. Recreate other peoples work to more honestly reflect data.\n",
    "\n",
    "----------------------------------------------------------\n",
    "\n",
    "This homework has **4 questions** and **1 exercise**"
   ]
  },
  {
   "cell_type": "markdown",
   "id": "d0c422e3-32b1-452f-89a8-2586784d3957",
   "metadata": {},
   "source": [
    "## Important Information\n",
    "\n",
    "- Email: [joanna_bieri@redlands.edu](mailto:joanna_bieri@redlands.edu)\n",
    "- Office Hours: Duke 209 <a href=\"https://joannabieri.com/schedule.html\"> Click Here for Joanna's Schedule</a>\n",
    "\n",
    "## Day 13 Assignment - same drill.\n",
    "\n",
    "1. Make sure you can **Fork** and **Clone** the Day13 repo from [Redlands-DATA101](https://github.com/Redlands-DATA101)\n",
    "2. Open the file Day13-HW.ipynb and start doing the problems.\n",
    "    * You can do these problems as you follow along with the lecture notes and video.\n",
    "3. Get as far as you can before class.\n",
    "4. Submit what you have so far **Commit** and **Push** to Git.\n",
    "5. Take the daily check in quiz on **Canvas**.\n",
    "7. Come to class with lots of questions!"
   ]
  },
  {
   "cell_type": "code",
   "execution_count": 2,
   "id": "d0153569-41e3-4696-9b34-83ba90a0b5cf",
   "metadata": {},
   "outputs": [],
   "source": [
    "import numpy as np\n",
    "import pandas as pd\n",
    "\n",
    "import matplotlib.pyplot as plt\n",
    "import plotly.express as px\n",
    "from plotly.subplots import make_subplots\n",
    "import plotly.io as pio\n",
    "pio.renderers.defaule = 'colab'\n",
    "\n",
    "from itables import show\n",
    "\n",
    "# This stops a few warning messages from showing\n",
    "pd.options.mode.chained_assignment = None \n",
    "import warnings\n",
    "warnings.simplefilter(action='ignore', category=FutureWarning)"
   ]
  },
  {
   "cell_type": "markdown",
   "id": "b75d6a18-2959-4802-bb19-24a635fa9aa9",
   "metadata": {},
   "source": [
    "## Data Science Ethics\n",
    "\n",
    "## Misrepresentation\n",
    "\n",
    "Misrepresentation can happen intentionally or unintentionally. It can arise because of lack of knowledge of competence in data science. It is important to be aware of misrepresentation and be able to spot it a mile away in your work and in other peoples work!\n",
    "\n",
    "What is wrong with this picture? How would you correct it?\n",
    "\n",
    "\n",
    "![Confirmed Covid Cases](images/ga-dph-declining-bars.jpg)\n",
    "\n",
    "- Overall this looks like the heights of bars are going down.\n",
    "- Dates are on the x-axis.\n",
    "- Are covid cases going down over time?\n"
   ]
  },
  {
   "cell_type": "markdown",
   "id": "0f786079-e9c5-43e7-9939-db8c5cd8c4f4",
   "metadata": {},
   "source": [
    "**Q1** Write in your own words what you see that is wrong with this graph. What is the story it is telling vs the real story in the data? \n",
    "\n",
    "The dates on the axis are all mixed up givnig the illusion that the bars are going down over time, but the data does not have the dates organized. It also says over the pasted 15 days in the title, but there is only 14 days in the graph. \n",
    "\n",
    "The graph is trying to tell a story that the impact and number of confirmed Covid-19 cases are going down over time, but the real story is that each day is different and some are really low to really high in just one day. \n"
   ]
  },
  {
   "cell_type": "markdown",
   "id": "54feade0-685b-47f7-9e6b-3d4813182b7b",
   "metadata": {},
   "source": [
    "**Q2** Is it okay to misrepresent your data if you are getting people to \"do the right thing\"? For example, more exercise is good for you, right? Was it so bad to misrepresent the results of the cancer and exercise studies?\n",
    "\n",
    "It can be darngerous for some cases. Yes, exercising is good for you depending on your bodies ability to exercise, since there is some people who are not fit enough to exercise to their full ability. \n",
    "\n",
    "In the case above using the graph, it can be dangerous because we are assuming that Covid-19 is going away, but in fact it might not be going away. "
   ]
  },
  {
   "cell_type": "markdown",
   "id": "c313f413-e9c5-4a88-927f-24e251bc622a",
   "metadata": {},
   "source": [
    "## Data Privacy\n",
    "\n",
    "The question of data privacy is complicated and rests on the idea of what amount of expected privacy are we entitled to when we put our data online.\n",
    "\n",
    "## Data Privacy -  Case study: \n",
    "\n",
    "**Q3** When analyzing data that is publicly shared, how can you make sure that you are not violating a persons reasonable expectation of privacy? What do you think the rules should be here? How would you want your data treated?\n",
    "\n",
    "\n",
    "When analyzing publicly shared data, ensuring you don’t violate a person’s reasonable expectation of privacy involves adhering to ethical and legal standards focused on consent, context, and data sensitivity. A few rules I think there should be: clearly stating how data will be used and analyzed; only use the data necessary for the analysis; anonymize data to reduce risks; and avoid taking data out of its original context so there is no misrepresentation. I would want to make sure that my data contributes responsibly to research without exposing my identity or misrepresenting my intentions.\n",
    "\n",
    "**Q4** Does the answer to the question \"Should I scrape this data\" vary based on what the data is about? Give two examples where the answer might be different.\n",
    "\n",
    "Yes, the answer to \"Should I scrape this data?\" varies significantly based on what the data is about. Factors such as the sensitivity of the data, the intended use, and privacy implications all influence whether scraping is ethical or permissible.\n",
    "\n",
    "Example 1:  Scraping publicly available government data, like census information or weather statistics, is generally acceptable. This data is often shared with the intent of open access and public utility, allowing researchers, developers, and citizens to use it to create beneficial tools or analyses. Since this type of data is already aggregated, anonymized, and intended for public use, scraping it typically doesn’t raise significant ethical or privacy concerns.\n",
    "\n",
    "Example 2: Scraping personal information from social media profiles is far more problematic. Even though users may have shared some content publicly, they often do so with a limited audience. Collecting their posts, images, or location data without consent can feel invasive, violating their expectation of privacy. Also, scraping this kind of data could expose users to risks like identity theft, stalking, or unwanted surveillance, making it ethically questionable without explicit permission."
   ]
  },
  {
   "cell_type": "markdown",
   "id": "6252c36c-2895-4e10-9918-7ab674192598",
   "metadata": {},
   "source": [
    "## Exercise 1\n",
    "\n",
    "Consider the following visualization that was shared on Twitter:\n",
    "\n",
    "[Visualization on Twitter](https://twitter.com/JonBoeckenstedt/status/1291602888376999936)\n",
    "\n",
    "You are going to construct the data by reading (approximate is okay) the numbers from the picture.\n",
    "\n",
    "1. What is most misleading about this graph - essay answer\n",
    "\n",
    "The y-axis are different on each side making it misleading to read what is actually happening.  \n",
    "\n",
    "2.  Create a data frame that can be used to re-construct this visualization. You may need to guess some of the numbers, that's ok. You should first think about how many rows and columns you'll need and what you want to call your variables.\n",
    "\n",
    "\n",
    "Here is some code to get you started:"
   ]
  },
  {
   "cell_type": "code",
   "execution_count": 2,
   "id": "7d4bc2c6-8218-4c4d-9def-d9270ea74233",
   "metadata": {},
   "outputs": [
    {
     "data": {
      "text/html": [
       "<div>\n",
       "<style scoped>\n",
       "    .dataframe tbody tr th:only-of-type {\n",
       "        vertical-align: middle;\n",
       "    }\n",
       "\n",
       "    .dataframe tbody tr th {\n",
       "        vertical-align: top;\n",
       "    }\n",
       "\n",
       "    .dataframe thead th {\n",
       "        text-align: right;\n",
       "    }\n",
       "</style>\n",
       "<table border=\"1\" class=\"dataframe\">\n",
       "  <thead>\n",
       "    <tr style=\"text-align: right;\">\n",
       "      <th></th>\n",
       "      <th>date</th>\n",
       "      <th>count_mask</th>\n",
       "      <th>count_nomask</th>\n",
       "    </tr>\n",
       "  </thead>\n",
       "  <tbody>\n",
       "  </tbody>\n",
       "</table>\n",
       "</div>"
      ],
      "text/plain": [
       "Empty DataFrame\n",
       "Columns: [date, count_mask, count_nomask]\n",
       "Index: []"
      ]
     },
     "execution_count": 2,
     "metadata": {},
     "output_type": "execute_result"
    }
   ],
   "source": [
    "date = []\n",
    "count_mask = []\n",
    "count_nomask = []\n",
    "\n",
    "DF = pd.DataFrame()\n",
    "DF['date']=date\n",
    "DF['count_mask']=count_mask\n",
    "DF['count_nomask']=count_nomask\n",
    "DF"
   ]
  },
  {
   "cell_type": "code",
   "execution_count": 17,
   "id": "793f4996-8160-4b00-be33-b8964d18c074",
   "metadata": {},
   "outputs": [
    {
     "data": {
      "text/html": [
       "<div>\n",
       "<style scoped>\n",
       "    .dataframe tbody tr th:only-of-type {\n",
       "        vertical-align: middle;\n",
       "    }\n",
       "\n",
       "    .dataframe tbody tr th {\n",
       "        vertical-align: top;\n",
       "    }\n",
       "\n",
       "    .dataframe thead th {\n",
       "        text-align: right;\n",
       "    }\n",
       "</style>\n",
       "<table border=\"1\" class=\"dataframe\">\n",
       "  <thead>\n",
       "    <tr style=\"text-align: right;\">\n",
       "      <th></th>\n",
       "      <th>date</th>\n",
       "      <th>count_mask</th>\n",
       "      <th>count_nomask</th>\n",
       "    </tr>\n",
       "  </thead>\n",
       "  <tbody>\n",
       "    <tr>\n",
       "      <th>0</th>\n",
       "      <td>2020-07-01</td>\n",
       "      <td>300</td>\n",
       "      <td>450</td>\n",
       "    </tr>\n",
       "    <tr>\n",
       "      <th>1</th>\n",
       "      <td>2020-07-08</td>\n",
       "      <td>320</td>\n",
       "      <td>470</td>\n",
       "    </tr>\n",
       "    <tr>\n",
       "      <th>2</th>\n",
       "      <td>2020-07-15</td>\n",
       "      <td>350</td>\n",
       "      <td>490</td>\n",
       "    </tr>\n",
       "    <tr>\n",
       "      <th>3</th>\n",
       "      <td>2020-07-22</td>\n",
       "      <td>370</td>\n",
       "      <td>530</td>\n",
       "    </tr>\n",
       "    <tr>\n",
       "      <th>4</th>\n",
       "      <td>2020-07-29</td>\n",
       "      <td>390</td>\n",
       "      <td>550</td>\n",
       "    </tr>\n",
       "  </tbody>\n",
       "</table>\n",
       "</div>"
      ],
      "text/plain": [
       "         date  count_mask  count_nomask\n",
       "0  2020-07-01         300           450\n",
       "1  2020-07-08         320           470\n",
       "2  2020-07-15         350           490\n",
       "3  2020-07-22         370           530\n",
       "4  2020-07-29         390           550"
      ]
     },
     "execution_count": 17,
     "metadata": {},
     "output_type": "execute_result"
    }
   ],
   "source": [
    "date = ['2020-07-01', '2020-07-08', '2020-07-15', '2020-07-22', '2020-07-29']\n",
    "count_mask = [300, 320, 350, 370, 390]\n",
    "count_nomask = [450, 470, 490, 530, 550]\n",
    "\n",
    "DF = pd.DataFrame()\n",
    "DF['date']=date\n",
    "DF['count_mask']=count_mask\n",
    "DF['count_nomask']=count_nomask\n",
    "DF"
   ]
  },
  {
   "cell_type": "markdown",
   "id": "1cf33f04-f1a2-42b5-b60d-03745563e1db",
   "metadata": {},
   "source": [
    "3. Make a visualization of this data that is more accurate. Your visualization should more honestly tell the story.\n",
    "\n",
    "               fig = pd.line(DF,x= ,y= )\n"
   ]
  },
  {
   "cell_type": "code",
   "execution_count": 19,
   "id": "0be89ec9-64bc-4786-8430-6879227f6131",
   "metadata": {},
   "outputs": [
    {
     "data": {
      "image/png": "[encoded data removed]",
      "text/plain": [
       "<Figure size 640x480 with 1 Axes>"
      ]
     },
     "metadata": {},
     "output_type": "display_data"
    }
   ],
   "source": [
    "fig, ax = plt.subplots()\n",
    "ax.plot(DF['date'], DF['count_mask'], label='Mask')\n",
    "ax.plot(DF['date'], DF['count_nomask'], label='No Mask')\n",
    "\n",
    "ax.set_xlabel('Date')\n",
    "ax.set_ylabel('Count')\n",
    "ax.set_title('Mask vs No Mask Counts Over Time')\n",
    "ax.legend()\n",
    "plt.xticks(rotation=45)\n",
    "plt.show()"
   ]
  },
  {
   "cell_type": "markdown",
   "id": "68344745-51a7-46f1-9604-22e79f060d03",
   "metadata": {},
   "source": [
    "4. What message is more clear in your visualization, compared to the one posted on twitter?\n",
    "\n",
    "   They are going off the same y-axis. We can clearly see a comparison at which is going to be better for you. "
   ]
  },
  {
   "cell_type": "markdown",
   "id": "b085adba-6c3c-4a0f-9cd7-95c90450b6ce",
   "metadata": {},
   "source": [
    "5. What, if any, useful information do these data and your visualization tell us about mask wearing and COVID? It’ll be difficult to set aside what you already know about mask wearing, but you should try to focus only on what this visualization tells. Feel free to also comment on whether that lines up with what you know about mask wearing.\n",
    "\n",
    "   In the visualization, we see that not wearing a mask has more COVID cases than out of the people who wore a mask. So, from the visualization, we can come to the conclusion that people should be wearing a mask. "
   ]
  },
  {
   "cell_type": "markdown",
   "id": "abb5eaa2-d8b1-4a5d-a8d9-02e8baa3d936",
   "metadata": {},
   "source": [
    "6. Could there be confounding data? What can you actually say about the data as given?\n",
    "\n",
    "   Yes, there can be confounding data such as: the amount of peolple in the study, the location of the study, the setting the people were in, and much more. We can only say for the given that wearing a mask results in less people getting COVID. "
   ]
  },
  {
   "cell_type": "code",
   "execution_count": null,
   "id": "cdd07fec-ecab-47d1-b1de-26c934c2e662",
   "metadata": {},
   "outputs": [],
   "source": []
  }
 ],
 "metadata": {
  "kernelspec": {
   "display_name": "Python 3 (ipykernel)",
   "language": "python",
   "name": "python3"
  },
  "language_info": {
   "codemirror_mode": {
    "name": "ipython",
    "version": 3
   },
   "file_extension": ".py",
   "mimetype": "text/x-python",
   "name": "python",
   "nbconvert_exporter": "python",
   "pygments_lexer": "ipython3",
   "version": "3.12.2"
  }
 },
 "nbformat": 4,
 "nbformat_minor": 5
}
